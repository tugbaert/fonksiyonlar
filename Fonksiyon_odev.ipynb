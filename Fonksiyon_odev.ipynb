{
 "cells": [
  {
   "cell_type": "markdown",
   "metadata": {},
   "source": [
    "#### Ödev 1\n",
    "Kullanıcıdan pi değeri ve yarıçap bilgisi alarak dairenin alanını hesaplayan bir fonksiyon oluşturulur."
   ]
  },
  {
   "cell_type": "code",
   "execution_count": 2,
   "metadata": {},
   "outputs": [
    {
     "data": {
      "text/plain": [
       "12.56"
      ]
     },
     "execution_count": 2,
     "metadata": {},
     "output_type": "execute_result"
    }
   ],
   "source": [
    "def daire_alan(pi,yariçap):\n",
    "    alan=pi*(yariçap**2)\n",
    "    return alan\n",
    "daire_alan(3,5)\n",
    "daire_alan(3.14,2)\n"
   ]
  },
  {
   "cell_type": "markdown",
   "metadata": {},
   "source": [
    "#### Ödev 2\n",
    "\n",
    "Faktöriyel adında fonksiyon oluşturulur. Döngü kullanarak parametre olarak girilen sayının faktöriyeli hesaplanır. Format metodunu kullanılarak ekrana yazdırılır."
   ]
  },
  {
   "cell_type": "code",
   "execution_count": 6,
   "metadata": {},
   "outputs": [
    {
     "name": "stdout",
     "output_type": "stream",
     "text": [
      "4 sayısının faktöriyeli 24 dir\n"
     ]
    }
   ],
   "source": [
    "def faktöriyel(sayi):\n",
    "    faktöriyel=1\n",
    "    tut=sayi\n",
    "    while tut>0:\n",
    "        faktöriyel*=tut\n",
    "        tut-=1\n",
    "    print(\"{} sayısının faktöriyeli {} dir\".format(sayi,faktöriyel))\n",
    "faktöriyel(4)"
   ]
  },
  {
   "cell_type": "markdown",
   "metadata": {},
   "source": [
    "#### Ödev 3\n",
    "Kişinin fonksiyona doğum yılını vererek kaç yaşında olduğunu hesaplayan bir fonksiyon oluşturun. "
   ]
  },
  {
   "cell_type": "code",
   "execution_count": 12,
   "metadata": {},
   "outputs": [
    {
     "name": "stdout",
     "output_type": "stream",
     "text": [
      "20 yaşındasınız.\n"
     ]
    }
   ],
   "source": [
    "import datetime\n",
    "bul=datetime.datetime.now()\n",
    "yil=bul.year\n",
    "def yas_kac(dyil):\n",
    "    yas= yil-dyil\n",
    "    return yas\n",
    "yas =yas_kac(2004)\n",
    "print(f\"{yas} yaşındasınız.\")"
   ]
  },
  {
   "cell_type": "markdown",
   "metadata": {},
   "source": [
    "#### Ödev 4\n",
    "\n",
    "Doğum yılı ve isim bilgisi verilen fonksiyon kişinin emekli olup olmadığını söylesin.(Kişi 65 yaşında ise emekli olur.) Burada yaş hesabını yukarıdaki örnekteki fonksiyonu kullanarak yapsın.(Yani fonksiyon içinde fonksiyon kullanmanızı istiyorum :)) Kişi 65 yaşında ya da daha fazlaysa \"Emekli oldunuz\" yanıtını, 65 yaşından küçükse emekliliğine kaç yıl kaldığını da hesaplayarak \"(isim) emekliliğine (yıl) kaldı.\" yanıtını versin."
   ]
  },
  {
   "cell_type": "code",
   "execution_count": 14,
   "metadata": {},
   "outputs": [
    {
     "name": "stdout",
     "output_type": "stream",
     "text": [
      "Tuğba emekliliğinize 45 yıl kaldı.\n"
     ]
    }
   ],
   "source": [
    "def emekli_mi(dyil,isim):\n",
    "    yas = yas_kac(dyil)\n",
    "    if yas>=65:\n",
    "        print(\"Emekli oldunuz.\")\n",
    "    elif yas<65:\n",
    "        print(isim +\" emekliliğinize \" + str(65-yas) + \" yıl kaldı.\")\n",
    "emekli_mi(int(input(\"Dğum yılınızı giriniz:\")),input(\"İsminiz nedir? \"))"
   ]
  }
 ],
 "metadata": {
  "kernelspec": {
   "display_name": "Python 3",
   "language": "python",
   "name": "python3"
  },
  "language_info": {
   "codemirror_mode": {
    "name": "ipython",
    "version": 3
   },
   "file_extension": ".py",
   "mimetype": "text/x-python",
   "name": "python",
   "nbconvert_exporter": "python",
   "pygments_lexer": "ipython3",
   "version": "3.12.1"
  }
 },
 "nbformat": 4,
 "nbformat_minor": 2
}
